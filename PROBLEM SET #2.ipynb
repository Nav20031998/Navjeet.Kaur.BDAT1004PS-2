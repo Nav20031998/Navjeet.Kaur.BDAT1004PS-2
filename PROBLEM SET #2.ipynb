{
 "cells": [
  {
   "cell_type": "markdown",
   "id": "cc4a8756",
   "metadata": {},
   "source": [
    "# ASSIGNMENT 2 DATA PROGRAMMING\n",
    "# PROBLEM SET 2\n"
   ]
  },
  {
   "cell_type": "markdown",
   "id": "fdfa4188",
   "metadata": {},
   "source": [
    "# QUESTION 1 Python Module"
   ]
  },
  {
   "cell_type": "code",
   "execution_count": null,
   "id": "7a70d8f0",
   "metadata": {},
   "outputs": [],
   "source": [
    "# Consider the following Python module:\n",
    "a = 0\n",
    "def b():\n",
    " global a\n",
    " a = c(a)\n",
    "def c(a):\n",
    " return a + 2\n",
    "After importing the module into the interpreter, you execute:\n",
    ">>> b()\n",
    ">>> b()\n",
    ">>> b()\n",
    ">>> a\n",
    "?\n",
    "What value is displayed when the last expression (a) is evaluated? Explain your \n",
    "answer by indicating what happens in every executed statement.\n"
   ]
  },
  {
   "cell_type": "code",
   "execution_count": 2,
   "id": "f3cb6b52",
   "metadata": {},
   "outputs": [
    {
     "name": "stdout",
     "output_type": "stream",
     "text": [
      "6\n"
     ]
    }
   ],
   "source": [
    "# ANSWER \n",
    "a =0           # global variable 'a' has been taken and value of 0 assigned to it\n",
    "def b():       # a function b() is defined\n",
    "  global a      # global a shows the global variable a which is assigned 0\n",
    "  a=c(a)        \n",
    "def c(a):       # a new function c is defined\n",
    "  return a +2   # it returns the value of c(a)which is a+2=0+2=2 (as a is global variable which is 0 )\n",
    "b()            # as a=c(a) so it means a becomes 2 \n",
    "b()             # after repeating the same procedure it will turn out to be 4\n",
    "b()             #the value is 6 after getting updated\n",
    "print(a)          # printing the value of a which is 6 as it was called by b()function thrice"
   ]
  },
  {
   "cell_type": "markdown",
   "id": "2eb39218",
   "metadata": {},
   "source": [
    "## QUESTION 2 RAISE AN EXCEPTION"
   ]
  },
  {
   "cell_type": "code",
   "execution_count": null,
   "id": "65995dbe",
   "metadata": {},
   "outputs": [],
   "source": [
    "Function fileLength(), given to you, takes the name of a file as input and returns \n",
    "the length of the file:\n",
    ">>> fileLength('midterm.py')\n",
    "284\n",
    ">>> fileLength('idterm.py')\n",
    "Traceback (most recent call last):\n",
    "File \"<pyshell#34>\", line 1, in <module>\n",
    " fileLength('idterm.py')\n",
    "File \"/Users/me/midterm.py\", line 3, in fileLength\n",
    " infile = open(filename)\n",
    "FileNotFoundError: [Errno 2] No such file or directory: \n",
    "'idterm.py'\n",
    "As shown above, if the file cannot be found by the interpreter or if it cannot be read \n",
    "as a text file, an exception will be raised. Modify function fileLength() so that a \n",
    "friendly message is printed instead:\n",
    ">>> fileLength('midterm.py')\n",
    "358\n",
    ">>> fileLength('idterm.py')\n",
    "File idterm.py not found.\n"
   ]
  },
  {
   "cell_type": "code",
   "execution_count": 1,
   "id": "185beb3b",
   "metadata": {},
   "outputs": [
    {
     "name": "stdout",
     "output_type": "stream",
     "text": [
      "Enter the filename:  Bloodtxt.txt\n",
      "103\n",
      "Enter the filename:  Blootxt.txt\n",
      "File Blootxt.txt not found\n"
     ]
    }
   ],
   "source": [
    "# answer for question 2 \n",
    "def fileLength():     # fileLength() fuction has been defined\n",
    "    \n",
    "    try:              \n",
    "        input_file = input('Enter the filename:  ')  # imput_file is where the input file will be retrieved from \n",
    "        file = open(input_file, 'r')                # this opens the input_file and read it\n",
    "        contents = file.readline()                  # reading the file contents and storing it in contents variable\n",
    "        file.close()                               # file will be closed \n",
    "        print(len(contents))                      # printing the length of contents of input_file\n",
    "    except FileNotFoundError:\n",
    "        print(\"File \"+ input_file + \" not found\")  #printing the file name not found will be displayed\n",
    "fileLength()                                  # this will open up the input _file and will add files into it and then print the contents\n",
    "fileLength()                                  "
   ]
  },
  {
   "cell_type": "markdown",
   "id": "a65965c6",
   "metadata": {},
   "source": [
    "## QUESTION 3"
   ]
  },
  {
   "cell_type": "code",
   "execution_count": null,
   "id": "94bb0ce2",
   "metadata": {},
   "outputs": [],
   "source": [
    "Write a class named Marsupial that can be used as shown below:\n",
    ">>> m = Marsupial()\n",
    ">>> m.put_in_pouch('doll')\n",
    ">>> m.put_in_pouch('firetruck')\n",
    ">>> m.put_in_pouch('kitten')\n",
    ">>> m.pouch_contents()\n",
    "['doll', 'firetruck', 'kitten']\n",
    "Now write a class named Kangaroo as a subclass of Marsupial that inherits all the \n",
    "attributes of Marsupial and also:\n",
    "a. extends the Marsupial __init__ constructor to take, as input, the \n",
    "coordinates x and y of the Kangaroo object,\n",
    "b. supports method jump that takes number values dx and dy as input and \n",
    "moves the kangaroo by dx units along the x-axis and by dy units along the y\u0002axis, and\n",
    ">>> k = Kangaroo(0,0)\n",
    ">>> print(k)\n",
    "I am a Kangaroo located at coordinates (0,0)\n",
    ">>> k.put_in_pouch('doll')\n",
    ">>> k.put_in_pouch('firetruck')\n",
    ">>> k.put_in_pouch('kitten')\n",
    ">>> k.pouch_contents()\n",
    "['doll', 'firetruck', 'kitten']\n",
    ">>> k.jump(1,0)\n",
    ">>> k.jump(1,0)\n",
    ">>> k.jump(1,0)\n",
    ">>> print(k)\n",
    "I am a Kangaroo located at coordinates (3,0)"
   ]
  },
  {
   "cell_type": "code",
   "execution_count": 1,
   "id": "5bca32f1",
   "metadata": {},
   "outputs": [],
   "source": [
    "class Marsupial:   # creating a class Marsupial\n",
    "    def __init__(self):     # creating a main _init_  method which initialise an empty list \"pouch\"\n",
    "        self.pouch = []\n",
    "\n",
    "    def put_in_pouch(self, item):     # put_in_pouch is defined to append an item to the pouch list\n",
    "        self.pouch.append(item)\n",
    "\n",
    "    def pouch_contents(self):      #defining the poch_contents which returns the contents of pouch list\n",
    "        return self.pouch\n",
    "\n",
    "\n",
    "class Kangaroo(Marsupial):             # creating the Kangaroo class\n",
    "    def __init__(self, x, y):         # overriding the _init_ method which have x and y variables and superfunction to initialise the pouch list\n",
    "        super().__init__()             # taking the coordinates in (x,y)\n",
    "        self.x = x\n",
    "        self.y = y\n",
    "\n",
    "    def jump(self, dx, dy):      # method jump is used to jump coordinates and taking dx and dy\n",
    "        self.x += dx             # adding the original values x,y  to jump coordinates\n",
    "        self.y += dy\n",
    "\n",
    "    def __str__(self):     # string method to use to print value of k \n",
    "        return f\"I am a Kangaroo located at coordinates ({self.x},{self.y})\"\n",
    "    "
   ]
  },
  {
   "cell_type": "code",
   "execution_count": 42,
   "id": "b0734653",
   "metadata": {},
   "outputs": [
    {
     "name": "stdout",
     "output_type": "stream",
     "text": [
      "<__main__.Marsupial object at 0x000002A4884C2650>\n",
      "['doll', 'firetruck', 'kitten']\n",
      "I am a Kangaroo located at coordinates (0,0)\n",
      "['doll', 'firetruck', 'kitten']\n",
      "I am a Kangaroo located at coordinates (3,0)\n"
     ]
    }
   ],
   "source": [
    "\n",
    "m = Marsupial()    # marsupial class will be denoted as 'm'\n",
    "m.put_in_pouch('doll')\n",
    "m.put_in_pouch('firetruck')\n",
    "m.put_in_pouch('kitten')\n",
    "print(m.pouch_contents())       # the first output will be the contents added in the functionput_in_pouch like 'doll','firetruck'and 'kitten'\n",
    "\n",
    "k = Kangaroo(0, 0)       # kangaroo class will take the values (0,0) origin\n",
    "print(k)               # as k is at (0,0) it will print the I am a kangarroo located at (0,0)\n",
    "\n",
    "k.put_in_pouch('doll')  # now these will be used to put in the contents \n",
    "k.put_in_pouch('firetruck')   \n",
    "k.put_in_pouch('kitten')\n",
    "print(k.pouch_contents())  # printing the contents of class\n",
    "\n",
    "k.jump(1, 0)      # these three instances will keep to move the coordinates from (0,0) to (3,0)\n",
    "k.jump(1, 0)\n",
    "k.jump(1, 0)\n",
    "print(k)   # printing the values in the k class"
   ]
  },
  {
   "cell_type": "markdown",
   "id": "2d534485",
   "metadata": {},
   "source": [
    "## QUESTION 4"
   ]
  },
  {
   "cell_type": "code",
   "execution_count": null,
   "id": "a1d0c6b9",
   "metadata": {},
   "outputs": [],
   "source": [
    "Write function collatz() that takes a positive integer x as input and prints the \n",
    "Collatz sequence starting at x. A Collatz sequence is obtained by repeatedly applying \n",
    "this rule to the previous number x in the sequence:\n",
    "x = \n",
    "{\n",
    "𝑥/2 𝑖𝑓 𝑥 𝑖𝑠 𝑒𝑣𝑒𝑛\n",
    "3𝑥 + 1 𝑖𝑓 𝑥 𝑖𝑠 𝑜𝑑𝑑\n",
    "}\n",
    "Your function should stop when the sequence gets to number 1. Your \n",
    "implementation must be recursive, without any loops.\n",
    ">>> collatz(1)\n",
    "1\n",
    ">>> collatz(10)\n",
    "10\n",
    "5\n",
    "16\n",
    "8\n",
    "4\n",
    "2\n",
    "1\n"
   ]
  },
  {
   "cell_type": "code",
   "execution_count": 10,
   "id": "1211d3cb",
   "metadata": {},
   "outputs": [],
   "source": [
    "def collatz(x):   #defining the Collatz function ()\n",
    "    print(x)         #printing the value of x\n",
    "    if x==1:          # if the value is 1 then it will return \n",
    "        return\n",
    "    elif x%2==0:       # if x is even , then it will again in the loop\n",
    "        collatz(x//2)\n",
    "    else:               # if x is odd, then it will go into collatz function\n",
    "        collatz(3*x+1)\n",
    "        "
   ]
  },
  {
   "cell_type": "code",
   "execution_count": 11,
   "id": "910a1b49",
   "metadata": {},
   "outputs": [
    {
     "name": "stdout",
     "output_type": "stream",
     "text": [
      "1\n"
     ]
    }
   ],
   "source": [
    "        \n",
    "collatz(1)    \n"
   ]
  },
  {
   "cell_type": "code",
   "execution_count": 12,
   "id": "957024ea",
   "metadata": {},
   "outputs": [
    {
     "name": "stdout",
     "output_type": "stream",
     "text": [
      "10\n",
      "5\n",
      "16\n",
      "8\n",
      "4\n",
      "2\n",
      "1\n"
     ]
    }
   ],
   "source": [
    "collatz(10)"
   ]
  },
  {
   "cell_type": "markdown",
   "id": "654b4a8c",
   "metadata": {},
   "source": [
    "# QUESTION 5"
   ]
  },
  {
   "cell_type": "code",
   "execution_count": null,
   "id": "216080fa",
   "metadata": {},
   "outputs": [],
   "source": [
    "Write a recursive method binary() that takes a non-negative \n",
    "integer n and prints the binary representation of integer n.\n",
    ">>> binary(0)\n",
    "0\n",
    ">>> binary(1)\n",
    "1\n",
    ">>> binary(3)\n",
    "11\n",
    ">>> binary(9)\n",
    "1001\n"
   ]
  },
  {
   "cell_type": "code",
   "execution_count": 19,
   "id": "4b7f6141",
   "metadata": {},
   "outputs": [],
   "source": [
    "def binary(n):\n",
    "    if n > 1:\n",
    "        binary(n // 2)  # Recursive call with integer division\n",
    "    print(n % 2, end='')"
   ]
  },
  {
   "cell_type": "code",
   "execution_count": 21,
   "id": "5d517fd4",
   "metadata": {},
   "outputs": [
    {
     "name": "stdout",
     "output_type": "stream",
     "text": [
      "Binary representation of 0:\n",
      "0"
     ]
    }
   ],
   "source": [
    "# ANSWER\n",
    "#Testing the binary() method\n",
    "print(\"Binary representation of 0:\")\n",
    "binary(0)"
   ]
  },
  {
   "cell_type": "code",
   "execution_count": 22,
   "id": "689df608",
   "metadata": {},
   "outputs": [
    {
     "name": "stdout",
     "output_type": "stream",
     "text": [
      "Binary representation of 1:\n",
      "1"
     ]
    }
   ],
   "source": [
    "print(\"Binary representation of 1:\")\n",
    "binary(1)"
   ]
  },
  {
   "cell_type": "code",
   "execution_count": 23,
   "id": "3f652a81",
   "metadata": {},
   "outputs": [
    {
     "name": "stdout",
     "output_type": "stream",
     "text": [
      "Binary representation of 3:\n",
      "11"
     ]
    }
   ],
   "source": [
    "print(\"Binary representation of 3:\")\n",
    "binary(3)"
   ]
  },
  {
   "cell_type": "code",
   "execution_count": 24,
   "id": "c4850823",
   "metadata": {},
   "outputs": [
    {
     "name": "stdout",
     "output_type": "stream",
     "text": [
      "Binary representation of 9:\n",
      "1001"
     ]
    }
   ],
   "source": [
    "print(\"Binary representation of 9:\")\n",
    "binary(9)"
   ]
  },
  {
   "cell_type": "markdown",
   "id": "6f0caae1",
   "metadata": {},
   "source": [
    "## QUESTION 8"
   ]
  },
  {
   "cell_type": "code",
   "execution_count": null,
   "id": "93be54bd",
   "metadata": {},
   "outputs": [],
   "source": [
    "Write SQL queries on the below database table that return: \n",
    "a) All the temperature data.\n",
    "b) All the cities, but without repetition.\n",
    "c) All the records for India.\n",
    "d) All the Fall records.\n",
    "e) The city, country, and season for which the average rainfall is between 200 \n",
    "and 400 millimeters.\n",
    "f) The city and country for which the average Fall temperature is above 20 \n",
    "degrees, in increasing temperature order.\n",
    "g) The total annual rainfall for Cairo.\n",
    "h) The total rainfall for each season"
   ]
  },
  {
   "cell_type": "code",
   "execution_count": 30,
   "id": "6c189e0e",
   "metadata": {},
   "outputs": [],
   "source": [
    "import sqlite3   #importing sqlite3 to perform these sql queries\n",
    "conn = sqlite3.connect('Weather_Report.db')         # made a database to build a connection \n",
    "moncursor = conn.cursor()                        # moncursor can connect it to connection cursor\n",
    "conn = moncursor.execute(\"CREATE TABLE DataBase (City TEXT,Country TEXT,Season TEXT,Temperature FLOAT,Rainfall FLOAT)\")   # create a table named DataBase \n",
    "# Putting the values into the table\n",
    "Tabularvalues = [('Mumbai','India','Winter',24.8,5.9),('Mumbai','India','Spring',28.4,16.2),('Mumbai','India','Summer',27.9,1549.4),('Mumbai','India','Fall',27.6,346.0),('London','United Kingdom','Winter',4.2,207.7),('London','United Kingdom','Spring',8.3,169.6),('London','United Kingdom','Summer',15.7,157.0),('London','United Kingdom','Fall',10.4,218.5),('Cairo','Egypt','Winter',13.6,16.5),('Cairo','Egypt','Spring',20.7,6.5),('Cairo','Egypt','Summer',27.7,0.1),('Cairo','Egypt','Fall',22.2,4.5)]"
   ]
  },
  {
   "cell_type": "code",
   "execution_count": 32,
   "id": "b2a42e8c",
   "metadata": {},
   "outputs": [],
   "source": [
    "for row in Tabularvalues:     #for loop is used to put rows in table Database\n",
    "    moncursor.execute(\"INSERT INTO DataBase VALUES(?,?,?,?,?)\",(row[0],row[1],row[2],row[3],row[4])) # executing the cursor to insert Database values"
   ]
  },
  {
   "cell_type": "code",
   "execution_count": 33,
   "id": "38287070",
   "metadata": {
    "scrolled": true
   },
   "outputs": [
    {
     "name": "stdout",
     "output_type": "stream",
     "text": [
      "Details fetched from the able are :  \n",
      "('Mumbai', 'India', 'Winter', 24.8, 5.9)\n",
      "('Mumbai', 'India', 'Spring', 28.4, 16.2)\n",
      "('Mumbai', 'India', 'Summer', 27.9, 1549.4)\n",
      "('Mumbai', 'India', 'Fall', 27.6, 346.0)\n",
      "('London', 'United Kingdom', 'Winter', 4.2, 207.7)\n",
      "('London', 'United Kingdom', 'Spring', 8.3, 169.6)\n",
      "('London', 'United Kingdom', 'Summer', 15.7, 157.0)\n",
      "('London', 'United Kingdom', 'Fall', 10.4, 218.5)\n",
      "('Cairo', 'Egypt', 'Winter', 13.6, 16.5)\n",
      "('Cairo', 'Egypt', 'Spring', 20.7, 6.5)\n",
      "('Cairo', 'Egypt', 'Summer', 27.7, 0.1)\n",
      "('Cairo', 'Egypt', 'Fall', 22.2, 4.5)\n"
     ]
    }
   ],
   "source": [
    "# fetching all the details for the Database\n",
    "moncursor.execute(\"SELECT City,Country,Season,Temperature,Rainfall FROM DataBase\")  # extracting the values from Database\n",
    "Result_mine = moncursor.fetchall()    # Fetchall()is used to add values into Result_mine\n",
    "\n",
    "print(\"Details fetched from the able are :  \")\n",
    "for x in Result_mine:         # for loop is used to put values into Result\n",
    "    print(x)"
   ]
  },
  {
   "cell_type": "code",
   "execution_count": 8,
   "id": "460d3e83",
   "metadata": {},
   "outputs": [],
   "source": [
    "# Question a) All the temperature data."
   ]
  },
  {
   "cell_type": "code",
   "execution_count": 34,
   "id": "6356bc94",
   "metadata": {},
   "outputs": [
    {
     "name": "stdout",
     "output_type": "stream",
     "text": [
      "All the temperature data are as follows: \n",
      "(24.8,)\n",
      "(28.4,)\n",
      "(27.9,)\n",
      "(27.6,)\n",
      "(4.2,)\n",
      "(8.3,)\n",
      "(15.7,)\n",
      "(10.4,)\n",
      "(13.6,)\n",
      "(20.7,)\n",
      "(27.7,)\n",
      "(22.2,)\n"
     ]
    }
   ],
   "source": [
    "moncursor.execute(\"SELECT Temperature FROM DataBase\")      # extracting temperature from Database\n",
    "Temp_allcities=moncursor.fetchall()             # fetching temperature from Databse is added to Temp_allcities\n",
    "\n",
    "print(\"All the temperature data are as follows: \")\n",
    "for v in Temp_allcities:           # for is used to print values from Temp_allcities\n",
    "    print(v)"
   ]
  },
  {
   "cell_type": "code",
   "execution_count": 10,
   "id": "b6eb632b",
   "metadata": {},
   "outputs": [],
   "source": [
    "# Question b) All the cities, but without repetition."
   ]
  },
  {
   "cell_type": "code",
   "execution_count": 35,
   "id": "e92d7247",
   "metadata": {},
   "outputs": [
    {
     "name": "stdout",
     "output_type": "stream",
     "text": [
      "All the Cities, but without repetition: \n",
      "('Mumbai',)\n",
      "('London',)\n",
      "('Cairo',)\n"
     ]
    }
   ],
   "source": [
    "moncursor.execute(\"SELECT DISTINCT City FROM DataBase\")       # extracting distinct city from Database\n",
    "all_cities=moncursor.fetchall()                    #fetching all the distinct cities and adding in all_cities\n",
    "print(\"All the Cities, but without repetition: \")\n",
    "for v in all_cities:                                  #for loop is used to print the distinct Cities \n",
    "    print(v)"
   ]
  },
  {
   "cell_type": "code",
   "execution_count": 12,
   "id": "6d3ec025",
   "metadata": {},
   "outputs": [],
   "source": [
    "# Question c) All the records for India."
   ]
  },
  {
   "cell_type": "code",
   "execution_count": 36,
   "id": "ed9c0a06",
   "metadata": {},
   "outputs": [
    {
     "name": "stdout",
     "output_type": "stream",
     "text": [
      "All the records from INDIA:  \n",
      "('Mumbai', 'India', 'Winter', 24.8, 5.9)\n",
      "('Mumbai', 'India', 'Spring', 28.4, 16.2)\n",
      "('Mumbai', 'India', 'Summer', 27.9, 1549.4)\n",
      "('Mumbai', 'India', 'Fall', 27.6, 346.0)\n"
     ]
    }
   ],
   "source": [
    "moncursor.execute(\"SELECT * FROM DataBase WHERE Country ='India' \")   # Fetching all the details from databse for Country INDiA\n",
    "all_India=moncursor.fetchall()          #adding all the details into all_India\n",
    "print(\"All the records from INDIA:  \")\n",
    "for v in all_India:\n",
    "    print(v)"
   ]
  },
  {
   "cell_type": "code",
   "execution_count": 14,
   "id": "0aa0a8df",
   "metadata": {},
   "outputs": [],
   "source": [
    "# Question d) All the Fall records."
   ]
  },
  {
   "cell_type": "code",
   "execution_count": 37,
   "id": "728cad6b",
   "metadata": {},
   "outputs": [
    {
     "name": "stdout",
     "output_type": "stream",
     "text": [
      "All the details for Fall Season: \n",
      "('Mumbai', 'India', 'Fall', 27.6, 346.0)\n",
      "('London', 'United Kingdom', 'Fall', 10.4, 218.5)\n",
      "('Cairo', 'Egypt', 'Fall', 22.2, 4.5)\n"
     ]
    }
   ],
   "source": [
    "moncursor.execute(\"SELECT * FROM DataBase WHERE Season ='Fall' \")  #fetching all the details for Fall season from Database\n",
    "fall_details=moncursor.fetchall()\n",
    "print(\"All the details for Fall Season: \")\n",
    "for v in fall_details:          #for loop is used to print fall details \n",
    "    print(v)"
   ]
  },
  {
   "cell_type": "code",
   "execution_count": 16,
   "id": "148b9358",
   "metadata": {},
   "outputs": [],
   "source": [
    "# Question e) The city, country, and season for which the average rainfall is between 200 and 400 millimeters."
   ]
  },
  {
   "cell_type": "code",
   "execution_count": 38,
   "id": "08d2f93f",
   "metadata": {},
   "outputs": [
    {
     "name": "stdout",
     "output_type": "stream",
     "text": [
      "The City,Country,Season for which the average rainfall is between 200 and 400 millimetres:   \n",
      "('Mumbai', 'India', 'Fall')\n",
      "('London', 'United Kingdom', 'Winter')\n",
      "('London', 'United Kingdom', 'Fall')\n"
     ]
    }
   ],
   "source": [
    "moncursor.execute(\"SELECT City,Country,Season FROM DataBase WHERE Rainfall<400 and Rainfall>200 \") #fetching City,Countryand season from Database where Rainfall is between 200and 400 mm\n",
    "rainfall_details=moncursor.fetchall()        # will add rainfall details into rainfall_details\n",
    "print(\"The City,Country,Season for which the average rainfall is between 200 and 400 millimetres:   \")\n",
    "for v in rainfall_details:\n",
    "    print(v)"
   ]
  },
  {
   "cell_type": "code",
   "execution_count": 18,
   "id": "575eb5a1",
   "metadata": {},
   "outputs": [],
   "source": [
    "# Question f) The city and country for which the average Fall temperature is above 20 degrees, in increasing temperature order."
   ]
  },
  {
   "cell_type": "code",
   "execution_count": 39,
   "id": "493dd508",
   "metadata": {},
   "outputs": [
    {
     "name": "stdout",
     "output_type": "stream",
     "text": [
      "The City and country with average fall temperature is above 20 degrees  in increasing temp.:  \n",
      "('Cairo', 'Egypt')\n",
      "('Mumbai', 'India')\n"
     ]
    }
   ],
   "source": [
    "# selecting City,Country from Database for Fall season and temperature >20\n",
    "moncursor.execute(\"SELECT City, Country FROM DataBase WHERE Season = 'Fall' GROUP BY City, Country HAVING AVG(Temperature) > 20 ;\")\n",
    "fall_tempdetails=moncursor.fetchall()  # will save in fall_tempdetails\n",
    "print(\"The City and country with average fall temperature is above 20 degrees  in increasing temp.:  \")\n",
    "for v in fall_tempdetails:   # for loop is used to print values for this \n",
    "    print(v)\n",
    "    "
   ]
  },
  {
   "cell_type": "code",
   "execution_count": 20,
   "id": "84f30b5e",
   "metadata": {},
   "outputs": [],
   "source": [
    "# Question g) The total annual rainfall for Cairo."
   ]
  },
  {
   "cell_type": "code",
   "execution_count": 40,
   "id": "bf85106e",
   "metadata": {},
   "outputs": [
    {
     "name": "stdout",
     "output_type": "stream",
     "text": [
      "The total rainfall annual rainfall for Cairo : \n",
      "(27.6,)\n"
     ]
    }
   ],
   "source": [
    "moncursor.execute(\"SELECT  SUM(Rainfall) AS CAIRORainfall FROM DataBase WHERE City='Cairo' \") # extracting total annual rainfall for Cairo\n",
    "rainfall_CAIRO=moncursor.fetchall()       # will add into rainfall_CAIRO\n",
    "print(\"The total rainfall annual rainfall for Cairo : \")\n",
    "for v in rainfall_CAIRO:   # printing the result for annual rainfall for Cairo\n",
    "    print(v)\n"
   ]
  },
  {
   "cell_type": "code",
   "execution_count": null,
   "id": "be5f4e36",
   "metadata": {},
   "outputs": [],
   "source": [
    "# Question h) The total rainfall for each season"
   ]
  },
  {
   "cell_type": "code",
   "execution_count": 41,
   "id": "e5d2d35c",
   "metadata": {},
   "outputs": [
    {
     "name": "stdout",
     "output_type": "stream",
     "text": [
      "The total rainfall for each season : \n",
      "(569.0, 'Fall')\n",
      "(192.29999999999998, 'Spring')\n",
      "(1706.5, 'Summer')\n",
      "(230.1, 'Winter')\n"
     ]
    }
   ],
   "source": [
    "moncursor.execute(\"SELECT  SUM(Rainfall) AS TotalRainfall, Season  FROM DataBase GROUP BY Season;\")  # extracting Total rainfall season from Season\n",
    "rainfall_total=moncursor.fetchall()\n",
    "\n",
    "print(\"The total rainfall for each season : \")\n",
    "for v in rainfall_total:  #printing the values \n",
    "    print(v)"
   ]
  },
  {
   "cell_type": "markdown",
   "id": "e717491f",
   "metadata": {},
   "source": [
    "## QUESTION 9"
   ]
  },
  {
   "cell_type": "code",
   "execution_count": null,
   "id": "efd54de0",
   "metadata": {},
   "outputs": [],
   "source": [
    "Suppose list words is defined as follows:\n",
    ">>> words = ['The', 'quick', 'brown', 'fox', 'jumps', 'over', \n",
    "'the', 'lazy', 'dog']\n",
    "Write list comprehension expressions that use list words and generate the following \n",
    "lists:\n",
    "a) ['THE', 'QUICK', 'BROWN', 'FOX', 'JUMPS', 'OVER', 'THE', \n",
    "'LAZY', 'DOG']\n",
    "b) ['the', 'quick', 'brown', 'fox', 'jumps', 'over', 'the', \n",
    "'lazy', 'dog']\n",
    "c) [3, 5, 5, 3, 5, 4, 3, 4, 3] (the list of lengths of words in list \n",
    "words).\n",
    "d) [['THE', 'the', 3], ['QUICK', 'quick', 5], ['BROWN', \n",
    "'brown', 5], ['FOX', 'fox', 3], ['JUMPS', 'jumps', 5], \n",
    "['OVER', 'over', 4], ['THE', 'the', 3], ['LAZY', 'lazy', \n",
    "4], ['DOG', 'dog', 3]] (the list containing a list for every word of list \n",
    "words, where each list contains the word in uppercase and lowercase and the \n",
    "length of the word.)\n",
    "e) ['The', 'quick', 'brown', 'fox', 'jumps', 'over', 'the', \n",
    "'lazy', 'dog'] (the list of words in list words containing 4 or more \n",
    "characters."
   ]
  },
  {
   "cell_type": "code",
   "execution_count": 15,
   "id": "918efbff",
   "metadata": {},
   "outputs": [
    {
     "name": "stdout",
     "output_type": "stream",
     "text": [
      "['THE', 'QUICK', 'BROWN', 'FOX', 'JUMPS', 'OVER', 'THE', 'LAZY', 'DOG']\n",
      "['the', 'quick', 'brown', 'fox', 'jumps', 'over', 'the', 'lazy', 'dog']\n",
      "[3, 5, 5, 3, 5, 4, 3, 4, 3]\n",
      "[['THE', 'the', 3], ['QUICK', 'quick', 5], ['BROWN', 'brown', 5], ['FOX', 'fox', 3], ['JUMPS', 'jumps', 5], ['OVER', 'over', 4], ['THE', 'the', 3], ['LAZY', 'lazy', 4], ['DOG', 'dog', 3]]\n",
      "['quick', 'brown', 'jumps', 'over', 'lazy']\n",
      "['quick', 'brown', 'jumps', 'over', 'lazy']\n"
     ]
    }
   ],
   "source": [
    "words = ['The', 'quick', 'brown', 'fox', 'jumps', 'over', 'the', 'lazy', 'dog']\n",
    "# answer for 9.a.\n",
    "res_a = [word.upper() for word in words]  # res_a represents the conversion of each word in upper case used in the words list\n",
    "print(res_a)       # printing the result for a part\n",
    "\n",
    "# answer for 9.b.\n",
    "res_b =[word.lower() for word in words]   #res_b represents the conversion of each word in lower case used in the words list\n",
    "print(res_b)       #printing the result for b part\n",
    "\n",
    "# answer for 9.c.\n",
    "res_c = []    # taken an empty list to put length of word\n",
    "for word in words:         # loop has been used to put values from words list\n",
    "    #print(len(word))         # for verifying the values of lengths\n",
    "    res_c.append(len(word))    # this function will append lengths of word in words list in the res_c empty list\n",
    "print(res_c)             # res_c will be printed\n",
    "\n",
    "# answer for 9.d.\n",
    "res_d = [[word.upper(), word.lower(), len(word)] for word in words]  # this will represent the upper case ,lower case and lengths of word in words list\n",
    "print(res_d)          # res_d will be printed\n",
    "\n",
    "# answer for 9.e.\n",
    "res_e = []   # taking an empty list to put list demanded\n",
    "for word in words:     # for loop has been used to take word from words list\n",
    "    if len(word) >= 4:  # if lengths>=4 then it will start appending values in the empty list taken in the firat step \n",
    "        res_e.append(word)\n",
    "print(res_e)   # printing the res_e\n",
    "\n",
    "# or the second method of directly putting the words with lengths equal or more than 4 \n",
    "\n",
    "#res_e = [word for word in words if len(word) >= 4]\n",
    "#print(res_e)\n",
    "\n",
    "\n",
    "\n",
    "\n",
    "\n"
   ]
  },
  {
   "cell_type": "code",
   "execution_count": null,
   "id": "bf9a8ad2",
   "metadata": {},
   "outputs": [],
   "source": []
  }
 ],
 "metadata": {
  "kernelspec": {
   "display_name": "Python 3 (ipykernel)",
   "language": "python",
   "name": "python3"
  },
  "language_info": {
   "codemirror_mode": {
    "name": "ipython",
    "version": 3
   },
   "file_extension": ".py",
   "mimetype": "text/x-python",
   "name": "python",
   "nbconvert_exporter": "python",
   "pygments_lexer": "ipython3",
   "version": "3.10.9"
  }
 },
 "nbformat": 4,
 "nbformat_minor": 5
}
